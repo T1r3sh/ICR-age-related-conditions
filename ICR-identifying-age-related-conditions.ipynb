{
 "cells": [
  {
   "cell_type": "markdown",
   "metadata": {},
   "source": [
    "# ICR Identifying Age Related Conditions  - -- -\n",
    "\n",
    "Here some more about all it, a still don't know what i'm going to use. Thinking of random forest via tensorflow or casual scikit-learn + xgboost. Really want to try something with PCA or another methods that can reduce dimentions. For now it's just EDA \n"
   ]
  },
  {
   "cell_type": "markdown",
   "metadata": {},
   "source": [
    "## Table of Content\n",
    "* [Introduction](#chapter1)\n",
    "    * [Methodology](#section1_1)\n",
    "    * [Imports](#section1_2)\n",
    "    * [Data Review](#section1_3)\n",
    "* [EDA](#chapter2)\n",
    "    * [Distributions](#section2_1)\n",
    "    * [Multivariable Analysis](#section2_2)\n",
    "    * [Correlation Map](#section2_3)\n",
    "* [Chapter 3](#chapter3)\n",
    "* [Chapter 4](#chapter4)\n"
   ]
  },
  {
   "cell_type": "markdown",
   "metadata": {},
   "source": [
    "## Introduction <a class=\"anchor\" id=\"chapter1\"></a>\n",
    "\n",
    "\n",
    "tut text\n"
   ]
  },
  {
   "cell_type": "code",
   "execution_count": null,
   "metadata": {},
   "outputs": [],
   "source": []
  },
  {
   "cell_type": "markdown",
   "metadata": {},
   "source": [
    "### Methodology <a class=\"anchor\" id=\"section1_1\"></a>\n",
    "\n",
    "\n",
    "tut text\n"
   ]
  },
  {
   "cell_type": "code",
   "execution_count": null,
   "metadata": {},
   "outputs": [],
   "source": []
  },
  {
   "cell_type": "markdown",
   "metadata": {},
   "source": [
    "### Imports <a class=\"anchor\" id=\"section1_2\"></a>\n",
    "\n",
    "\n",
    "tut text\n"
   ]
  },
  {
   "cell_type": "code",
   "execution_count": null,
   "metadata": {},
   "outputs": [],
   "source": []
  },
  {
   "cell_type": "markdown",
   "metadata": {},
   "source": [
    "### Data review <a class=\"anchor\" id=\"section1_3\"></a>\n",
    "\n",
    "\n",
    "tut text\n"
   ]
  },
  {
   "cell_type": "code",
   "execution_count": null,
   "metadata": {},
   "outputs": [],
   "source": []
  },
  {
   "cell_type": "markdown",
   "metadata": {},
   "source": [
    "## EDA <a class=\"anchor\" id=\"chapter2\"></a>\n",
    "\n",
    "\n",
    "tut text 2\n"
   ]
  },
  {
   "cell_type": "code",
   "execution_count": null,
   "metadata": {},
   "outputs": [],
   "source": []
  },
  {
   "cell_type": "markdown",
   "metadata": {},
   "source": [
    "### Univariable analysis <a class=\"anchor\" id=\"section2_1\"></a>\n",
    "\n",
    "\n",
    "tut text\n"
   ]
  },
  {
   "cell_type": "code",
   "execution_count": null,
   "metadata": {},
   "outputs": [],
   "source": []
  },
  {
   "cell_type": "markdown",
   "metadata": {},
   "source": [
    "### Multivariable Analysis <a class=\"anchor\" id=\"section2_2\"></a>\n",
    "\n",
    "\n",
    "tut text\n"
   ]
  },
  {
   "cell_type": "code",
   "execution_count": null,
   "metadata": {},
   "outputs": [],
   "source": []
  },
  {
   "cell_type": "markdown",
   "metadata": {},
   "source": [
    "### Correlation map <a class=\"anchor\" id=\"section2_3\"></a>\n",
    "\n",
    "\n",
    "tut text\n"
   ]
  },
  {
   "cell_type": "code",
   "execution_count": null,
   "metadata": {},
   "outputs": [],
   "source": []
  },
  {
   "cell_type": "markdown",
   "metadata": {},
   "source": [
    "## Chapter 3 <a class=\"anchor\" id=\"chapter3\"></a>\n",
    "\n",
    "\n",
    "tut text 3\n"
   ]
  },
  {
   "cell_type": "code",
   "execution_count": null,
   "metadata": {},
   "outputs": [],
   "source": []
  },
  {
   "cell_type": "markdown",
   "metadata": {},
   "source": [
    "## Chapter 4 <a class=\"anchor\" id=\"chapter4\"></a>\n",
    "\n",
    "\n",
    "tut text 4\n"
   ]
  },
  {
   "cell_type": "code",
   "execution_count": null,
   "metadata": {},
   "outputs": [],
   "source": []
  }
 ],
 "metadata": {
  "language_info": {
   "name": "python"
  },
  "orig_nbformat": 4
 },
 "nbformat": 4,
 "nbformat_minor": 2
}
